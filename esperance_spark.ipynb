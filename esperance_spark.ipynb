{
  "cells": [
    {
      "cell_type": "code",
      "source": [
        "# =========================================================\n",
        "# Spark MLlib - Prédiction de l'espérance de vie\n",
        "# \n",
        "# =========================================================\n",
        "\n",
        "\n",
        "from pyspark.sql.functions import col, when, count, isnan\n",
        "from pyspark.ml.feature import Imputer, StringIndexer, VectorAssembler, StandardScaler\n",
        "from pyspark.ml.regression import LinearRegression, RandomForestRegressor, GBTRegressor\n",
        "from pyspark.ml.evaluation import RegressionEvaluator\n",
        "from pyspark.ml.tuning import CrossValidator, ParamGridBuilder\n",
        "from pyspark.ml import Pipeline\n"
      ],
      "outputs": [
        {
          "output_type": "display_data",
          "data": {
            "application/vnd.livy.statement-meta+json": {
              "spark_pool": "sparkkemeans",
              "statement_id": 41,
              "statement_ids": [
                41
              ],
              "state": "finished",
              "livy_statement_state": "available",
              "spark_jobs": null,
              "session_id": "1",
              "normalized_state": "finished",
              "queued_time": "2025-10-05T15:11:27.0887684Z",
              "session_start_time": null,
              "execution_start_time": "2025-10-05T15:11:27.0899996Z",
              "execution_finish_time": "2025-10-05T15:11:27.2923577Z",
              "parent_msg_id": "e73ce5bd-ad71-4248-a01a-d21dd4ff5b3c"
            },
            "text/plain": "StatementMeta(sparkkemeans, 1, 41, Finished, Available, Finished)"
          },
          "metadata": {}
        }
      ],
      "execution_count": 62,
      "metadata": {}
    },
    {
      "cell_type": "code",
      "source": [
        " # Chargement du dataset depuis ADLS \n",
        "df = spark.read.csv(\n",
        "    \"abfss://esperance@datalakekmeans.dfs.core.windows.net/mahamathassan86/esperance_vie_spark_regression/refs/heads/main/esperance_vie.csv\",\n",
        "    header=True,\n",
        "    inferSchema=True\n",
        ")\n"
      ],
      "outputs": [
        {
          "output_type": "display_data",
          "data": {
            "application/vnd.livy.statement-meta+json": {
              "spark_pool": "sparkkemeans",
              "statement_id": 42,
              "statement_ids": [
                42
              ],
              "state": "finished",
              "livy_statement_state": "available",
              "spark_jobs": null,
              "session_id": "1",
              "normalized_state": "finished",
              "queued_time": "2025-10-05T15:11:27.2663043Z",
              "session_start_time": null,
              "execution_start_time": "2025-10-05T15:11:27.3027457Z",
              "execution_finish_time": "2025-10-05T15:11:27.8843496Z",
              "parent_msg_id": "8d02b501-a49c-4194-89d9-13ebf7418ca2"
            },
            "text/plain": "StatementMeta(sparkkemeans, 1, 42, Finished, Available, Finished)"
          },
          "metadata": {}
        }
      ],
      "execution_count": 63,
      "metadata": {}
    },
    {
      "cell_type": "code",
      "source": [
        "\n",
        "df.printSchema()\n"
      ],
      "outputs": [
        {
          "output_type": "display_data",
          "data": {
            "application/vnd.livy.statement-meta+json": {
              "spark_pool": "sparkkemeans",
              "statement_id": 43,
              "statement_ids": [
                43
              ],
              "state": "finished",
              "livy_statement_state": "available",
              "spark_jobs": null,
              "session_id": "1",
              "normalized_state": "finished",
              "queued_time": "2025-10-05T15:11:27.8136662Z",
              "session_start_time": null,
              "execution_start_time": "2025-10-05T15:11:27.8964362Z",
              "execution_finish_time": "2025-10-05T15:11:28.1245065Z",
              "parent_msg_id": "771c1cd5-a808-42ad-8005-4c56d9c53230"
            },
            "text/plain": "StatementMeta(sparkkemeans, 1, 43, Finished, Available, Finished)"
          },
          "metadata": {}
        },
        {
          "output_type": "stream",
          "name": "stdout",
          "text": [
            "root\n |-- Pays: string (nullable = true)\n |-- Année: integer (nullable = true)\n |-- Statut: string (nullable = true)\n |-- Espérance de vie: double (nullable = true)\n |-- Mortalité des adultes: integer (nullable = true)\n |-- Décès de nourrissons: integer (nullable = true)\n |-- Alcool: double (nullable = true)\n |-- Dépenses en pourcentage: double (nullable = true)\n |-- Hépatite B: integer (nullable = true)\n |-- Rougeole: integer (nullable = true)\n |-- IMC: double (nullable = true)\n |-- Polio: integer (nullable = true)\n |-- Dépenses totales: double (nullable = true)\n |-- Diphtérie: integer (nullable = true)\n |-- VIH: double (nullable = true)\n |-- Population: double (nullable = true)\n |-- thinness 5-9 years: double (nullable = true)\n |-- Composition des revenus des ressources: double (nullable = true)\n |-- Scolarisation: double (nullable = true)\n\n"
          ]
        }
      ],
      "execution_count": 64,
      "metadata": {}
    },
    {
      "cell_type": "code",
      "source": [
        "df.count()"
      ],
      "outputs": [
        {
          "output_type": "display_data",
          "data": {
            "application/vnd.livy.statement-meta+json": {
              "spark_pool": "sparkkemeans",
              "statement_id": 44,
              "statement_ids": [
                44
              ],
              "state": "finished",
              "livy_statement_state": "available",
              "spark_jobs": null,
              "session_id": "1",
              "normalized_state": "finished",
              "queued_time": "2025-10-05T15:11:28.5902208Z",
              "session_start_time": null,
              "execution_start_time": "2025-10-05T15:11:28.5914055Z",
              "execution_finish_time": "2025-10-05T15:11:28.8428052Z",
              "parent_msg_id": "3c34f33d-7f4b-459f-8aaf-371e14e24782"
            },
            "text/plain": "StatementMeta(sparkkemeans, 1, 44, Finished, Available, Finished)"
          },
          "metadata": {}
        },
        {
          "output_type": "execute_result",
          "execution_count": 89,
          "data": {
            "text/plain": "2938"
          },
          "metadata": {}
        }
      ],
      "execution_count": 65,
      "metadata": {}
    },
    {
      "cell_type": "code",
      "source": [
        "df.show(5)"
      ],
      "outputs": [
        {
          "output_type": "display_data",
          "data": {
            "application/vnd.livy.statement-meta+json": {
              "spark_pool": "sparkkemeans",
              "statement_id": 45,
              "statement_ids": [
                45
              ],
              "state": "finished",
              "livy_statement_state": "available",
              "spark_jobs": null,
              "session_id": "1",
              "normalized_state": "finished",
              "queued_time": "2025-10-05T15:11:29.574122Z",
              "session_start_time": null,
              "execution_start_time": "2025-10-05T15:11:29.5752831Z",
              "execution_finish_time": "2025-10-05T15:11:30.1494547Z",
              "parent_msg_id": "82135b03-121d-4ecd-846d-0760ca30a249"
            },
            "text/plain": "StatementMeta(sparkkemeans, 1, 45, Finished, Available, Finished)"
          },
          "metadata": {}
        },
        {
          "output_type": "stream",
          "name": "stdout",
          "text": [
            "+-----------+-----+----------+----------------+---------------------+--------------------+------+-----------------------+----------+--------+----+-----+----------------+---------+---+-----------+------------------+--------------------------------------+-------------+\n|       Pays|Année|    Statut|Espérance de vie|Mortalité des adultes|Décès de nourrissons|Alcool|Dépenses en pourcentage|Hépatite B|Rougeole| IMC|Polio|Dépenses totales|Diphtérie|VIH| Population|thinness 5-9 years|Composition des revenus des ressources|Scolarisation|\n+-----------+-----+----------+----------------+---------------------+--------------------+------+-----------------------+----------+--------+----+-----+----------------+---------+---+-----------+------------------+--------------------------------------+-------------+\n|Afghanistan| 2015|Developing|            65.0|                  263|                  62|  0.01|            71.27962362|        65|    1154|19.1|    6|            8.16|       65|0.1|3.3736494E7|              17.3|                                 0.479|         10.1|\n|Afghanistan| 2014|Developing|            59.9|                  271|                  64|  0.01|            73.52358168|        62|     492|18.6|   58|            8.18|       62|0.1|   327582.0|              17.5|                                 0.476|         10.0|\n|Afghanistan| 2013|Developing|            59.9|                  268|                  66|  0.01|            73.21924272|        64|     430|18.1|   62|            8.13|       64|0.1|3.1731688E7|              17.7|                                  0.47|          9.9|\n|Afghanistan| 2012|Developing|            59.5|                  272|                  69|  0.01|             78.1842153|        67|    2787|17.6|   67|            8.52|       67|0.1|  3696958.0|              18.0|                                 0.463|          9.8|\n|Afghanistan| 2011|Developing|            59.2|                  275|                  71|  0.01|            7.097108703|        68|    3013|17.2|   68|            7.87|       68|0.1|  2978599.0|              18.2|                                 0.454|          9.5|\n+-----------+-----+----------+----------------+---------------------+--------------------+------+-----------------------+----------+--------+----+-----+----------------+---------+---+-----------+------------------+--------------------------------------+-------------+\nonly showing top 5 rows\n\n"
          ]
        }
      ],
      "execution_count": 66,
      "metadata": {}
    },
    {
      "cell_type": "code",
      "source": [
        "#  Sélection des colonnes utiles\n",
        "target = \"Espérance de vie\"\n",
        "categorical_col = \"Statut\"\n",
        "numeric_cols = [\n",
        "    \"Mortalité des adultes\", \"Décès de nourrissons\", \"Alcool\",\n",
        "    \"Dépenses en pourcentage\", \"Hépatite B\", \"Rougeole\",\n",
        "    \"IMC\", \"Polio\", \"Dépenses totales\", \"Diphtérie\",\n",
        "    \"VIH\", \"Population\", \"thinness 5-9 years\",\n",
        "    \"Composition des revenus des ressources\", \"Scolarisation\"\n",
        "]"
      ],
      "outputs": [
        {
          "output_type": "display_data",
          "data": {
            "application/vnd.livy.statement-meta+json": {
              "spark_pool": "sparkkemeans",
              "statement_id": 46,
              "statement_ids": [
                46
              ],
              "state": "finished",
              "livy_statement_state": "available",
              "spark_jobs": null,
              "session_id": "1",
              "normalized_state": "finished",
              "queued_time": "2025-10-05T15:11:30.4222399Z",
              "session_start_time": null,
              "execution_start_time": "2025-10-05T15:11:30.4234205Z",
              "execution_finish_time": "2025-10-05T15:11:30.6317841Z",
              "parent_msg_id": "e5bf5830-b1da-45ba-b704-04eeef1b22fb"
            },
            "text/plain": "StatementMeta(sparkkemeans, 1, 46, Finished, Available, Finished)"
          },
          "metadata": {}
        }
      ],
      "execution_count": 67,
      "metadata": {}
    },
    {
      "cell_type": "code",
      "source": [
        "\n",
        "\n",
        "# Vérification des valeurs manquantes dans la cible\n",
        "df.select([\n",
        "    count(when(col(\"Espérance de vie\").isNull() | isnan(col(\"Espérance de vie\")), \"Espérance de vie\")).alias(\"Valeurs_manquantes_Espérance_de_vie\"),\n",
        "    count(\"*\").alias(\"Total_lignes\")\n",
        "]).show()\n"
      ],
      "outputs": [
        {
          "output_type": "display_data",
          "data": {
            "application/vnd.livy.statement-meta+json": {
              "spark_pool": "sparkkemeans",
              "statement_id": 47,
              "statement_ids": [
                47
              ],
              "state": "finished",
              "livy_statement_state": "available",
              "spark_jobs": null,
              "session_id": "1",
              "normalized_state": "finished",
              "queued_time": "2025-10-05T15:11:31.2901715Z",
              "session_start_time": null,
              "execution_start_time": "2025-10-05T15:11:31.2914123Z",
              "execution_finish_time": "2025-10-05T15:11:31.884013Z",
              "parent_msg_id": "18acd065-0155-4417-b31f-dbceaaa87dcc"
            },
            "text/plain": "StatementMeta(sparkkemeans, 1, 47, Finished, Available, Finished)"
          },
          "metadata": {}
        },
        {
          "output_type": "stream",
          "name": "stdout",
          "text": [
            "+-----------------------------------+------------+\n|Valeurs_manquantes_Espérance_de_vie|Total_lignes|\n+-----------------------------------+------------+\n|                                 10|        2938|\n+-----------------------------------+------------+\n\n"
          ]
        }
      ],
      "execution_count": 68,
      "metadata": {}
    },
    {
      "cell_type": "code",
      "source": [
        "# Supprimer les lignes avec valeurs manquantes\n",
        "df = df.dropna(subset=[\"Espérance de vie\"] + numeric_cols)"
      ],
      "outputs": [
        {
          "output_type": "display_data",
          "data": {
            "application/vnd.livy.statement-meta+json": {
              "spark_pool": "sparkkemeans",
              "statement_id": 48,
              "statement_ids": [
                48
              ],
              "state": "finished",
              "livy_statement_state": "available",
              "spark_jobs": null,
              "session_id": "1",
              "normalized_state": "finished",
              "queued_time": "2025-10-05T15:11:32.1309635Z",
              "session_start_time": null,
              "execution_start_time": "2025-10-05T15:11:32.1322201Z",
              "execution_finish_time": "2025-10-05T15:11:32.3895655Z",
              "parent_msg_id": "6829f9f6-3b83-4d48-b082-5caca259972b"
            },
            "text/plain": "StatementMeta(sparkkemeans, 1, 48, Finished, Available, Finished)"
          },
          "metadata": {}
        }
      ],
      "execution_count": 69,
      "metadata": {}
    },
    {
      "cell_type": "code",
      "source": [
        "\n",
        "\n",
        "# --- Vérifier les valeurs manquantes AVANT imputation ---\n",
        "missing_before = df.select([\n",
        "    count(when(isnan(c) | col(c).isNull(), c)).alias(c)\n",
        "    for c in numeric_cols\n",
        "])\n",
        "\n",
        "# Transformer en format lisible : (colonne, nb_valeurs_manquantes)\n",
        "missing_before_long = missing_before.toPandas().T.reset_index()\n",
        "missing_before_long.columns = ['Colonne', 'Valeurs manquantes']\n",
        "\n",
        "print(\"\\n Valeurs manquantes AVANT imputation :\")\n",
        "print(missing_before_long.to_string(index=False))\n"
      ],
      "outputs": [
        {
          "output_type": "display_data",
          "data": {
            "application/vnd.livy.statement-meta+json": {
              "spark_pool": "sparkkemeans",
              "statement_id": 49,
              "statement_ids": [
                49
              ],
              "state": "finished",
              "livy_statement_state": "available",
              "spark_jobs": null,
              "session_id": "1",
              "normalized_state": "finished",
              "queued_time": "2025-10-05T15:11:32.9543739Z",
              "session_start_time": null,
              "execution_start_time": "2025-10-05T15:11:32.9555248Z",
              "execution_finish_time": "2025-10-05T15:11:33.585706Z",
              "parent_msg_id": "1db46f4c-515b-4b62-959e-a6efb3667588"
            },
            "text/plain": "StatementMeta(sparkkemeans, 1, 49, Finished, Available, Finished)"
          },
          "metadata": {}
        },
        {
          "output_type": "stream",
          "name": "stdout",
          "text": [
            "\n Valeurs manquantes AVANT imputation :\n                               Colonne  Valeurs manquantes\n                 Mortalité des adultes                   0\n                  Décès de nourrissons                   0\n                                Alcool                   0\n               Dépenses en pourcentage                   0\n                            Hépatite B                   0\n                              Rougeole                   0\n                                   IMC                   0\n                                 Polio                   0\n                      Dépenses totales                   0\n                             Diphtérie                   0\n                                   VIH                   0\n                            Population                   0\n                    thinness 5-9 years                   0\nComposition des revenus des ressources                   0\n                         Scolarisation                   0\n"
          ]
        }
      ],
      "execution_count": 70,
      "metadata": {}
    },
    {
      "cell_type": "code",
      "source": [
        "# 4️⃣ Imputation des valeurs manquantes (moyenne)\n",
        "imputer = Imputer(inputCols=numeric_cols, outputCols=[c + \"_imp\" for c in numeric_cols]).setStrategy(\"median\")\n",
        "df = imputer.fit(df).transform(df)\n"
      ],
      "outputs": [
        {
          "output_type": "display_data",
          "data": {
            "application/vnd.livy.statement-meta+json": {
              "spark_pool": "sparkkemeans",
              "statement_id": 50,
              "statement_ids": [
                50
              ],
              "state": "finished",
              "livy_statement_state": "available",
              "spark_jobs": null,
              "session_id": "1",
              "normalized_state": "finished",
              "queued_time": "2025-10-05T15:11:33.7960556Z",
              "session_start_time": null,
              "execution_start_time": "2025-10-05T15:11:33.7971812Z",
              "execution_finish_time": "2025-10-05T15:11:34.3702579Z",
              "parent_msg_id": "1610c5bc-7d9d-4317-bb1f-04b5d05d3057"
            },
            "text/plain": "StatementMeta(sparkkemeans, 1, 50, Finished, Available, Finished)"
          },
          "metadata": {}
        }
      ],
      "execution_count": 71,
      "metadata": {}
    },
    {
      "cell_type": "code",
      "source": [
        "# --- Après imputation ---\n",
        "missing_after = df.select([\n",
        "    count(when(isnan(c) | col(c).isNull(), c)).alias(c + \"_imp\")\n",
        "    for c in [c + \"_imp\" for c in numeric_cols]\n",
        "])\n",
        "\n",
        "missing_after_long = missing_after.toPandas().T.reset_index()\n",
        "missing_after_long.columns = ['Colonne', 'Valeurs manquantes']\n",
        "\n",
        "print(\"\\n Valeurs manquantes APRÈS imputation :\")\n",
        "print(missing_after_long.to_string(index=False))"
      ],
      "outputs": [
        {
          "output_type": "display_data",
          "data": {
            "application/vnd.livy.statement-meta+json": {
              "spark_pool": "sparkkemeans",
              "statement_id": 51,
              "statement_ids": [
                51
              ],
              "state": "finished",
              "livy_statement_state": "available",
              "spark_jobs": null,
              "session_id": "1",
              "normalized_state": "finished",
              "queued_time": "2025-10-05T15:11:34.7745307Z",
              "session_start_time": null,
              "execution_start_time": "2025-10-05T15:11:34.7757027Z",
              "execution_finish_time": "2025-10-05T15:11:35.3568715Z",
              "parent_msg_id": "94d65fc2-7939-4626-b2bd-dd37e65ccf11"
            },
            "text/plain": "StatementMeta(sparkkemeans, 1, 51, Finished, Available, Finished)"
          },
          "metadata": {}
        },
        {
          "output_type": "stream",
          "name": "stdout",
          "text": [
            "\n Valeurs manquantes APRÈS imputation :\n                                       Colonne  Valeurs manquantes\n                 Mortalité des adultes_imp_imp                   0\n                  Décès de nourrissons_imp_imp                   0\n                                Alcool_imp_imp                   0\n               Dépenses en pourcentage_imp_imp                   0\n                            Hépatite B_imp_imp                   0\n                              Rougeole_imp_imp                   0\n                                   IMC_imp_imp                   0\n                                 Polio_imp_imp                   0\n                      Dépenses totales_imp_imp                   0\n                             Diphtérie_imp_imp                   0\n                                   VIH_imp_imp                   0\n                            Population_imp_imp                   0\n                    thinness 5-9 years_imp_imp                   0\nComposition des revenus des ressources_imp_imp                   0\n                         Scolarisation_imp_imp                   0\n"
          ]
        }
      ],
      "execution_count": 72,
      "metadata": {}
    },
    {
      "cell_type": "code",
      "source": [
        "# Encodage du statut\n",
        "indexer = StringIndexer(inputCol=categorical_col, outputCol=\"Statut_indexed\")"
      ],
      "outputs": [
        {
          "output_type": "display_data",
          "data": {
            "application/vnd.livy.statement-meta+json": {
              "spark_pool": "sparkkemeans",
              "statement_id": 52,
              "statement_ids": [
                52
              ],
              "state": "finished",
              "livy_statement_state": "available",
              "spark_jobs": null,
              "session_id": "1",
              "normalized_state": "finished",
              "queued_time": "2025-10-05T15:11:35.9650929Z",
              "session_start_time": null,
              "execution_start_time": "2025-10-05T15:11:35.966363Z",
              "execution_finish_time": "2025-10-05T15:11:36.1833991Z",
              "parent_msg_id": "fc825cb6-84c1-488c-900d-56df7514ff27"
            },
            "text/plain": "StatementMeta(sparkkemeans, 1, 52, Finished, Available, Finished)"
          },
          "metadata": {}
        }
      ],
      "execution_count": 73,
      "metadata": {}
    },
    {
      "cell_type": "code",
      "source": [
        "# Assembler toutes les features\n",
        "features_cols = [c + \"_imp\" for c in numeric_cols] + [\"Statut_indexed\"]\n",
        "assembler = VectorAssembler(inputCols=features_cols, outputCol=\"features\")"
      ],
      "outputs": [
        {
          "output_type": "display_data",
          "data": {
            "application/vnd.livy.statement-meta+json": {
              "spark_pool": "sparkkemeans",
              "statement_id": 53,
              "statement_ids": [
                53
              ],
              "state": "finished",
              "livy_statement_state": "available",
              "spark_jobs": null,
              "session_id": "1",
              "normalized_state": "finished",
              "queued_time": "2025-10-05T15:11:37.093271Z",
              "session_start_time": null,
              "execution_start_time": "2025-10-05T15:11:37.0945061Z",
              "execution_finish_time": "2025-10-05T15:11:37.1847233Z",
              "parent_msg_id": "06b895e5-bcc1-4b23-aac8-290f33715bd5"
            },
            "text/plain": "StatementMeta(sparkkemeans, 1, 53, Finished, Available, Finished)"
          },
          "metadata": {}
        }
      ],
      "execution_count": 74,
      "metadata": {}
    },
    {
      "cell_type": "code",
      "source": [
        "# Standardisation\n",
        "scaler = StandardScaler(inputCol=\"features\", outputCol=\"scaled_features\")"
      ],
      "outputs": [
        {
          "output_type": "display_data",
          "data": {
            "application/vnd.livy.statement-meta+json": {
              "spark_pool": "sparkkemeans",
              "statement_id": 54,
              "statement_ids": [
                54
              ],
              "state": "finished",
              "livy_statement_state": "available",
              "spark_jobs": null,
              "session_id": "1",
              "normalized_state": "finished",
              "queued_time": "2025-10-05T15:11:38.3803412Z",
              "session_start_time": null,
              "execution_start_time": "2025-10-05T15:11:38.3815589Z",
              "execution_finish_time": "2025-10-05T15:11:38.5851231Z",
              "parent_msg_id": "39a0e732-dca8-405e-8cf0-586c91035f16"
            },
            "text/plain": "StatementMeta(sparkkemeans, 1, 54, Finished, Available, Finished)"
          },
          "metadata": {}
        }
      ],
      "execution_count": 75,
      "metadata": {}
    },
    {
      "cell_type": "code",
      "source": [
        "# Split Train/Test\n",
        "train_df, test_df = df.randomSplit([0.8, 0.2], seed=42)"
      ],
      "outputs": [
        {
          "output_type": "display_data",
          "data": {
            "application/vnd.livy.statement-meta+json": {
              "spark_pool": "sparkkemeans",
              "statement_id": 55,
              "statement_ids": [
                55
              ],
              "state": "finished",
              "livy_statement_state": "available",
              "spark_jobs": null,
              "session_id": "1",
              "normalized_state": "finished",
              "queued_time": "2025-10-05T15:11:40.2130203Z",
              "session_start_time": null,
              "execution_start_time": "2025-10-05T15:11:40.2142609Z",
              "execution_finish_time": "2025-10-05T15:11:40.4458313Z",
              "parent_msg_id": "641d37f5-1dc8-4d5f-a502-1c5d3bb58be4"
            },
            "text/plain": "StatementMeta(sparkkemeans, 1, 55, Finished, Available, Finished)"
          },
          "metadata": {}
        }
      ],
      "execution_count": 76,
      "metadata": {}
    },
    {
      "cell_type": "code",
      "source": [
        "# Définition des modèles\n",
        "lr = LinearRegression(featuresCol=\"scaled_features\", labelCol=target)\n",
        "rf = RandomForestRegressor(featuresCol=\"scaled_features\", labelCol=target, seed=42)\n",
        "gbt = GBTRegressor(featuresCol=\"scaled_features\", labelCol=target, seed=42)"
      ],
      "outputs": [
        {
          "output_type": "display_data",
          "data": {
            "application/vnd.livy.statement-meta+json": {
              "spark_pool": "sparkkemeans",
              "statement_id": 56,
              "statement_ids": [
                56
              ],
              "state": "finished",
              "livy_statement_state": "available",
              "spark_jobs": null,
              "session_id": "1",
              "normalized_state": "finished",
              "queued_time": "2025-10-05T15:11:41.3260427Z",
              "session_start_time": null,
              "execution_start_time": "2025-10-05T15:11:41.3271362Z",
              "execution_finish_time": "2025-10-05T15:11:41.5558771Z",
              "parent_msg_id": "acc641cb-19df-4698-aee1-1b8de4842d90"
            },
            "text/plain": "StatementMeta(sparkkemeans, 1, 56, Finished, Available, Finished)"
          },
          "metadata": {}
        }
      ],
      "execution_count": 77,
      "metadata": {}
    },
    {
      "cell_type": "code",
      "source": [
        "# Pipelines\n",
        "pipeline_lr = Pipeline(stages=[indexer, assembler, scaler, lr])\n",
        "pipeline_rf = Pipeline(stages=[indexer, assembler, scaler, rf])\n",
        "pipeline_gbt = Pipeline(stages=[indexer, assembler, scaler, gbt])"
      ],
      "outputs": [
        {
          "output_type": "display_data",
          "data": {
            "application/vnd.livy.statement-meta+json": {
              "spark_pool": "sparkkemeans",
              "statement_id": 57,
              "statement_ids": [
                57
              ],
              "state": "finished",
              "livy_statement_state": "available",
              "spark_jobs": null,
              "session_id": "1",
              "normalized_state": "finished",
              "queued_time": "2025-10-05T15:11:42.3871721Z",
              "session_start_time": null,
              "execution_start_time": "2025-10-05T15:11:42.3883439Z",
              "execution_finish_time": "2025-10-05T15:11:42.6001581Z",
              "parent_msg_id": "94684b06-dfc6-4ee1-a6bb-4990b727bdd9"
            },
            "text/plain": "StatementMeta(sparkkemeans, 1, 57, Finished, Available, Finished)"
          },
          "metadata": {}
        }
      ],
      "execution_count": 78,
      "metadata": {}
    },
    {
      "cell_type": "code",
      "source": [
        "# Grilles d’hyperparamètres\n",
        "param_grid_lr = (ParamGridBuilder()\n",
        "                 .addGrid(lr.regParam, [0.01, 0.1, 0.5])\n",
        "                 .addGrid(lr.elasticNetParam, [0.0, 0.5, 1.0])\n",
        "                 .build())\n",
        "\n",
        "param_grid_rf = (ParamGridBuilder()\n",
        "                 .addGrid(rf.numTrees, [50, 100])\n",
        "                 .addGrid(rf.maxDepth, [5, 10])\n",
        "                 .build())\n",
        "\n",
        "param_grid_gbt = (ParamGridBuilder()\n",
        "                  .addGrid(gbt.maxDepth, [5, 10])\n",
        "                  .addGrid(gbt.maxIter, [50, 100])\n",
        "                  .build())"
      ],
      "outputs": [
        {
          "output_type": "display_data",
          "data": {
            "application/vnd.livy.statement-meta+json": {
              "spark_pool": "sparkkemeans",
              "statement_id": 58,
              "statement_ids": [
                58
              ],
              "state": "finished",
              "livy_statement_state": "available",
              "spark_jobs": null,
              "session_id": "1",
              "normalized_state": "finished",
              "queued_time": "2025-10-05T15:11:43.4834455Z",
              "session_start_time": null,
              "execution_start_time": "2025-10-05T15:11:43.4846129Z",
              "execution_finish_time": "2025-10-05T15:11:43.7137734Z",
              "parent_msg_id": "11a967a6-685f-4a10-8db2-53aaa1a9af4b"
            },
            "text/plain": "StatementMeta(sparkkemeans, 1, 58, Finished, Available, Finished)"
          },
          "metadata": {}
        }
      ],
      "execution_count": 79,
      "metadata": {}
    },
    {
      "cell_type": "code",
      "source": [
        "# Évaluateur\n",
        "evaluator = RegressionEvaluator(labelCol=target, predictionCol=\"prediction\", metricName=\"r2\")\n",
        "\n",
        "# Cross-validation\n",
        "cv_lr = CrossValidator(estimator=pipeline_lr, estimatorParamMaps=param_grid_lr, evaluator=evaluator, numFolds=3)\n",
        "cv_rf = CrossValidator(estimator=pipeline_rf, estimatorParamMaps=param_grid_rf, evaluator=evaluator, numFolds=3)\n",
        "cv_gbt = CrossValidator(estimator=pipeline_gbt, estimatorParamMaps=param_grid_gbt, evaluator=evaluator, numFolds=3)\n"
      ],
      "outputs": [
        {
          "output_type": "display_data",
          "data": {
            "application/vnd.livy.statement-meta+json": {
              "spark_pool": "sparkkemeans",
              "statement_id": 59,
              "statement_ids": [
                59
              ],
              "state": "finished",
              "livy_statement_state": "available",
              "spark_jobs": null,
              "session_id": "1",
              "normalized_state": "finished",
              "queued_time": "2025-10-05T15:11:45.0585043Z",
              "session_start_time": null,
              "execution_start_time": "2025-10-05T15:11:45.0596886Z",
              "execution_finish_time": "2025-10-05T15:11:45.2773144Z",
              "parent_msg_id": "6b7f5b0f-615f-4a5c-a03c-470f16bee9e6"
            },
            "text/plain": "StatementMeta(sparkkemeans, 1, 59, Finished, Available, Finished)"
          },
          "metadata": {}
        }
      ],
      "execution_count": 80,
      "metadata": {}
    },
    {
      "cell_type": "code",
      "source": [
        "# Entraînement\n",
        "print(\" Entraînement des modèles en cours...\")\n",
        "models = {\n",
        "    \"LinearRegression\": cv_lr.fit(train_df),\n",
        "    \"RandomForest\": cv_rf.fit(train_df),\n",
        "    \"GBTRegressor\": cv_gbt.fit(train_df)\n",
        "}\n",
        "print(\" Entraînement terminé.\")"
      ],
      "outputs": [
        {
          "output_type": "display_data",
          "data": {
            "application/vnd.livy.statement-meta+json": {
              "spark_pool": "sparkkemeans",
              "statement_id": 60,
              "statement_ids": [
                60
              ],
              "state": "finished",
              "livy_statement_state": "available",
              "spark_jobs": null,
              "session_id": "1",
              "normalized_state": "finished",
              "queued_time": "2025-10-05T15:11:47.1754585Z",
              "session_start_time": null,
              "execution_start_time": "2025-10-05T15:11:47.1766864Z",
              "execution_finish_time": "2025-10-05T15:24:36.8587101Z",
              "parent_msg_id": "f0aef15e-acfc-43ff-8bb1-8ecc08200286"
            },
            "text/plain": "StatementMeta(sparkkemeans, 1, 60, Finished, Available, Finished)"
          },
          "metadata": {}
        },
        {
          "output_type": "stream",
          "name": "stdout",
          "text": [
            " Entraînement des modèles en cours...\n Entraînement terminé.\n"
          ]
        }
      ],
      "execution_count": 81,
      "metadata": {}
    },
    {
      "cell_type": "code",
      "source": [
        "#  Évaluation et comparaison\n",
        "results = []\n",
        "for name, model in models.items():\n",
        "    preds = model.transform(test_df)\n",
        "    r2 = evaluator.evaluate(preds)\n",
        "    rmse = RegressionEvaluator(labelCol=target, predictionCol=\"prediction\", metricName=\"rmse\").evaluate(preds)\n",
        "    mae = RegressionEvaluator(labelCol=target, predictionCol=\"prediction\", metricName=\"mae\").evaluate(preds)\n",
        "    results.append((name, r2, rmse, mae))\n",
        "    print(f\"\\n {name} → R²={r2:.4f}, RMSE={rmse:.4f}, MAE={mae:.4f}\")\n",
        "\n",
        "#  Résumé final\n",
        "print(\"\\n====================== Résumé des performances ======================\")\n",
        "print(\"| Modèle           |    R²     |   RMSE   |   MAE    |\")\n",
        "print(\"--------------------------------------------------------------------\")\n",
        "for name, r2, rmse, mae in results:\n",
        "    print(f\"| {name:15} | {r2:8.4f} | {rmse:8.4f} | {mae:8.4f} |\")\n",
        "print(\"--------------------------------------------------------------------\")"
      ],
      "outputs": [
        {
          "output_type": "display_data",
          "data": {
            "application/vnd.livy.statement-meta+json": {
              "spark_pool": "sparkkemeans",
              "statement_id": 61,
              "statement_ids": [
                61
              ],
              "state": "finished",
              "livy_statement_state": "available",
              "spark_jobs": null,
              "session_id": "1",
              "normalized_state": "finished",
              "queued_time": "2025-10-05T15:25:10.6389605Z",
              "session_start_time": null,
              "execution_start_time": "2025-10-05T15:25:10.6401657Z",
              "execution_finish_time": "2025-10-05T15:25:14.6184374Z",
              "parent_msg_id": "d7f19d88-13d1-4621-8306-d5641ccab1e6"
            },
            "text/plain": "StatementMeta(sparkkemeans, 1, 61, Finished, Available, Finished)"
          },
          "metadata": {}
        },
        {
          "output_type": "stream",
          "name": "stdout",
          "text": [
            "\n LinearRegression → R²=0.8106, RMSE=3.9118, MAE=2.9745\n\n RandomForest → R²=0.9455, RMSE=2.0976, MAE=1.3380\n\n GBTRegressor → R²=0.9341, RMSE=2.3078, MAE=1.4803\n\n====================== Résumé des performances ======================\n| Modèle           |    R²     |   RMSE   |   MAE    |\n--------------------------------------------------------------------\n| LinearRegression |   0.8106 |   3.9118 |   2.9745 |\n| RandomForest    |   0.9455 |   2.0976 |   1.3380 |\n| GBTRegressor    |   0.9341 |   2.3078 |   1.4803 |\n--------------------------------------------------------------------\n"
          ]
        }
      ],
      "execution_count": 82,
      "metadata": {}
    }
  ],
  "metadata": {
    "language_info": {
      "name": "python"
    },
    "kernelspec": {
      "name": "synapse_pyspark",
      "language": "Python",
      "display_name": "Synapse PySpark"
    },
    "kernel_info": {
      "name": "synapse_pyspark"
    },
    "save_output": true,
    "synapse_widget": {
      "version": "0.1",
      "state": {}
    }
  },
  "nbformat": 4,
  "nbformat_minor": 2
}